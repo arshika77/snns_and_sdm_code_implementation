{
  "nbformat": 4,
  "nbformat_minor": 0,
  "metadata": {
    "colab": {
      "name": "key_data_pairs.ipynb",
      "provenance": [],
      "toc_visible": true,
      "authorship_tag": "ABX9TyM+LhUAwIJRm+3+F8jHD4yc",
      "include_colab_link": true
    },
    "kernelspec": {
      "name": "python3",
      "display_name": "Python 3"
    }
  },
  "cells": [
    {
      "cell_type": "markdown",
      "metadata": {
        "id": "view-in-github",
        "colab_type": "text"
      },
      "source": [
        "<a href=\"https://colab.research.google.com/github/arshika77/Correlation-Matrix-Memory/blob/master/key_data_pairs.ipynb\" target=\"_parent\"><img src=\"https://colab.research.google.com/assets/colab-badge.svg\" alt=\"Open In Colab\"/></a>"
      ]
    },
    {
      "cell_type": "markdown",
      "metadata": {
        "id": "Sv-588-1xlHD",
        "colab_type": "text"
      },
      "source": [
        "##Imports"
      ]
    },
    {
      "cell_type": "code",
      "metadata": {
        "id": "z1WYwX9OvMpQ",
        "colab_type": "code",
        "colab": {}
      },
      "source": [
        "import numpy as np\n",
        "import pandas as pd\n",
        "import torch\n",
        "import torch.nn as nn\n",
        "import spacy\n",
        "import re\n",
        "import string\n",
        "from collections import Counter\n",
        "from torch.utils.data import Dataset, DataLoader\n",
        "import torch.nn.functional as F\n",
        "from torch.nn.utils.rnn import pack_padded_sequence, pad_packed_sequence"
      ],
      "execution_count": 2,
      "outputs": []
    },
    {
      "cell_type": "markdown",
      "metadata": {
        "id": "vwhcaqEo0SC7",
        "colab_type": "text"
      },
      "source": [
        "##Loading and visualising the data"
      ]
    },
    {
      "cell_type": "code",
      "metadata": {
        "id": "beoORRkuw6Rm",
        "colab_type": "code",
        "colab": {
          "base_uri": "https://localhost:8080/",
          "height": 104
        },
        "outputId": "657f9240-e7ed-439c-e793-baf29cdcdab9"
      },
      "source": [
        "!unzip \"NLP Data.zip\" -d \"data_directory\""
      ],
      "execution_count": 3,
      "outputs": [
        {
          "output_type": "stream",
          "text": [
            "Archive:  NLP Data.zip\n",
            "   creating: data_directory/NLP Data/data/\n",
            "  inflating: data_directory/NLP Data/data/train.csv  \n",
            "  inflating: data_directory/NLP Data/data/val.csv  \n",
            "  inflating: data_directory/NLP Data/README.md  \n"
          ],
          "name": "stdout"
        }
      ]
    },
    {
      "cell_type": "code",
      "metadata": {
        "id": "WRochJq_S21h",
        "colab_type": "code",
        "colab": {
          "base_uri": "https://localhost:8080/",
          "height": 35
        },
        "outputId": "900f0dc5-a860-47a4-b5d0-8573f44a6e76"
      },
      "source": [
        "!ls"
      ],
      "execution_count": 4,
      "outputs": [
        {
          "output_type": "stream",
          "text": [
            " data_directory  'NLP Data.zip'   sample_data\n"
          ],
          "name": "stdout"
        }
      ]
    },
    {
      "cell_type": "code",
      "metadata": {
        "id": "j592_Uodw6YL",
        "colab_type": "code",
        "colab": {}
      },
      "source": [
        "train_data = pd.read_csv('data_directory/NLP Data/data/train.csv')\n",
        "val_data = pd.read_csv('data_directory/NLP Data/data/val.csv')"
      ],
      "execution_count": 3,
      "outputs": []
    },
    {
      "cell_type": "code",
      "metadata": {
        "id": "Rnra8KyBw6fd",
        "colab_type": "code",
        "colab": {
          "base_uri": "https://localhost:8080/",
          "height": 202
        },
        "outputId": "e2e03e79-4d90-4034-dccf-c2b4f3678d5e"
      },
      "source": [
        "train_data.head()"
      ],
      "execution_count": 4,
      "outputs": [
        {
          "output_type": "execute_result",
          "data": {
            "text/html": [
              "<div>\n",
              "<style scoped>\n",
              "    .dataframe tbody tr th:only-of-type {\n",
              "        vertical-align: middle;\n",
              "    }\n",
              "\n",
              "    .dataframe tbody tr th {\n",
              "        vertical-align: top;\n",
              "    }\n",
              "\n",
              "    .dataframe thead th {\n",
              "        text-align: right;\n",
              "    }\n",
              "</style>\n",
              "<table border=\"1\" class=\"dataframe\">\n",
              "  <thead>\n",
              "    <tr style=\"text-align: right;\">\n",
              "      <th></th>\n",
              "      <th>Title</th>\n",
              "      <th>Post</th>\n",
              "      <th>Flair</th>\n",
              "    </tr>\n",
              "  </thead>\n",
              "  <tbody>\n",
              "    <tr>\n",
              "      <th>0</th>\n",
              "      <td>netflix the family has been an amazing watch d...</td>\n",
              "      <td>netflixs new series the family is about a secr...</td>\n",
              "      <td>10</td>\n",
              "    </tr>\n",
              "    <tr>\n",
              "      <th>1</th>\n",
              "      <td>all results are out is iiitm gwalior it branch...</td>\n",
              "      <td>the internet seems to think so average package...</td>\n",
              "      <td>0</td>\n",
              "    </tr>\n",
              "    <tr>\n",
              "      <th>2</th>\n",
              "      <td>which are the things you always buy made in india</td>\n",
              "      <td>you can include the reason for your preference...</td>\n",
              "      <td>0</td>\n",
              "    </tr>\n",
              "    <tr>\n",
              "      <th>3</th>\n",
              "      <td>weekly coders hackers amp all tech related thr...</td>\n",
              "      <td>last week issue all threads every week on frid...</td>\n",
              "      <td>11</td>\n",
              "    </tr>\n",
              "    <tr>\n",
              "      <th>4</th>\n",
              "      <td>what are some good unknown companies to work a...</td>\n",
              "      <td>there are similar posts on other subreddits bu...</td>\n",
              "      <td>0</td>\n",
              "    </tr>\n",
              "  </tbody>\n",
              "</table>\n",
              "</div>"
            ],
            "text/plain": [
              "                                               Title  ... Flair\n",
              "0  netflix the family has been an amazing watch d...  ...    10\n",
              "1  all results are out is iiitm gwalior it branch...  ...     0\n",
              "2  which are the things you always buy made in india  ...     0\n",
              "3  weekly coders hackers amp all tech related thr...  ...    11\n",
              "4  what are some good unknown companies to work a...  ...     0\n",
              "\n",
              "[5 rows x 3 columns]"
            ]
          },
          "metadata": {
            "tags": []
          },
          "execution_count": 4
        }
      ]
    },
    {
      "cell_type": "code",
      "metadata": {
        "id": "CZHauyHKw6nA",
        "colab_type": "code",
        "colab": {
          "base_uri": "https://localhost:8080/",
          "height": 539
        },
        "outputId": "512d49c9-230d-46a0-dd5d-7d26e9727ce0"
      },
      "source": [
        "train_data.groupby('Flair').count()"
      ],
      "execution_count": 5,
      "outputs": [
        {
          "output_type": "execute_result",
          "data": {
            "text/html": [
              "<div>\n",
              "<style scoped>\n",
              "    .dataframe tbody tr th:only-of-type {\n",
              "        vertical-align: middle;\n",
              "    }\n",
              "\n",
              "    .dataframe tbody tr th {\n",
              "        vertical-align: top;\n",
              "    }\n",
              "\n",
              "    .dataframe thead th {\n",
              "        text-align: right;\n",
              "    }\n",
              "</style>\n",
              "<table border=\"1\" class=\"dataframe\">\n",
              "  <thead>\n",
              "    <tr style=\"text-align: right;\">\n",
              "      <th></th>\n",
              "      <th>Title</th>\n",
              "      <th>Post</th>\n",
              "    </tr>\n",
              "    <tr>\n",
              "      <th>Flair</th>\n",
              "      <th></th>\n",
              "      <th></th>\n",
              "    </tr>\n",
              "  </thead>\n",
              "  <tbody>\n",
              "    <tr>\n",
              "      <th>0</th>\n",
              "      <td>16614</td>\n",
              "      <td>16578</td>\n",
              "    </tr>\n",
              "    <tr>\n",
              "      <th>1</th>\n",
              "      <td>811</td>\n",
              "      <td>804</td>\n",
              "    </tr>\n",
              "    <tr>\n",
              "      <th>2</th>\n",
              "      <td>76</td>\n",
              "      <td>71</td>\n",
              "    </tr>\n",
              "    <tr>\n",
              "      <th>3</th>\n",
              "      <td>791</td>\n",
              "      <td>783</td>\n",
              "    </tr>\n",
              "    <tr>\n",
              "      <th>4</th>\n",
              "      <td>365</td>\n",
              "      <td>365</td>\n",
              "    </tr>\n",
              "    <tr>\n",
              "      <th>5</th>\n",
              "      <td>172</td>\n",
              "      <td>171</td>\n",
              "    </tr>\n",
              "    <tr>\n",
              "      <th>6</th>\n",
              "      <td>293</td>\n",
              "      <td>290</td>\n",
              "    </tr>\n",
              "    <tr>\n",
              "      <th>7</th>\n",
              "      <td>8114</td>\n",
              "      <td>8041</td>\n",
              "    </tr>\n",
              "    <tr>\n",
              "      <th>8</th>\n",
              "      <td>96</td>\n",
              "      <td>93</td>\n",
              "    </tr>\n",
              "    <tr>\n",
              "      <th>9</th>\n",
              "      <td>1044</td>\n",
              "      <td>1038</td>\n",
              "    </tr>\n",
              "    <tr>\n",
              "      <th>10</th>\n",
              "      <td>4838</td>\n",
              "      <td>4789</td>\n",
              "    </tr>\n",
              "    <tr>\n",
              "      <th>11</th>\n",
              "      <td>580</td>\n",
              "      <td>579</td>\n",
              "    </tr>\n",
              "    <tr>\n",
              "      <th>12</th>\n",
              "      <td>958</td>\n",
              "      <td>941</td>\n",
              "    </tr>\n",
              "    <tr>\n",
              "      <th>13</th>\n",
              "      <td>256</td>\n",
              "      <td>250</td>\n",
              "    </tr>\n",
              "    <tr>\n",
              "      <th>14</th>\n",
              "      <td>1517</td>\n",
              "      <td>1516</td>\n",
              "    </tr>\n",
              "  </tbody>\n",
              "</table>\n",
              "</div>"
            ],
            "text/plain": [
              "       Title   Post\n",
              "Flair              \n",
              "0      16614  16578\n",
              "1        811    804\n",
              "2         76     71\n",
              "3        791    783\n",
              "4        365    365\n",
              "5        172    171\n",
              "6        293    290\n",
              "7       8114   8041\n",
              "8         96     93\n",
              "9       1044   1038\n",
              "10      4838   4789\n",
              "11       580    579\n",
              "12       958    941\n",
              "13       256    250\n",
              "14      1517   1516"
            ]
          },
          "metadata": {
            "tags": []
          },
          "execution_count": 5
        }
      ]
    },
    {
      "cell_type": "code",
      "metadata": {
        "id": "KOAPisBrygt3",
        "colab_type": "code",
        "colab": {
          "base_uri": "https://localhost:8080/",
          "height": 260
        },
        "outputId": "595fc3d4-22a7-4bb7-9113-82ba0efcfa86"
      },
      "source": [
        "print(train_data)"
      ],
      "execution_count": 6,
      "outputs": [
        {
          "output_type": "stream",
          "text": [
            "                                                   Title  ... Flair\n",
            "0      netflix the family has been an amazing watch d...  ...    10\n",
            "1      all results are out is iiitm gwalior it branch...  ...     0\n",
            "2      which are the things you always buy made in india  ...     0\n",
            "3      weekly coders hackers amp all tech related thr...  ...    11\n",
            "4      what are some good unknown companies to work a...  ...     0\n",
            "...                                                  ...  ...   ...\n",
            "36542       how to start trading cryptocurrency in india  ...     0\n",
            "36543                        may i eat my beef in peace   ...    10\n",
            "36544                         legal question about metoo  ...     0\n",
            "36545  are there any andhra university alumni or stud...  ...    14\n",
            "36546  what are some of the ways i can generate passi...  ...     1\n",
            "\n",
            "[36547 rows x 3 columns]\n"
          ],
          "name": "stdout"
        }
      ]
    },
    {
      "cell_type": "code",
      "metadata": {
        "id": "N8VpueRczJgN",
        "colab_type": "code",
        "colab": {
          "base_uri": "https://localhost:8080/",
          "height": 202
        },
        "outputId": "dee0a39a-2f6f-441d-bacc-77af1fe0f446"
      },
      "source": [
        "val_data.head()"
      ],
      "execution_count": 7,
      "outputs": [
        {
          "output_type": "execute_result",
          "data": {
            "text/html": [
              "<div>\n",
              "<style scoped>\n",
              "    .dataframe tbody tr th:only-of-type {\n",
              "        vertical-align: middle;\n",
              "    }\n",
              "\n",
              "    .dataframe tbody tr th {\n",
              "        vertical-align: top;\n",
              "    }\n",
              "\n",
              "    .dataframe thead th {\n",
              "        text-align: right;\n",
              "    }\n",
              "</style>\n",
              "<table border=\"1\" class=\"dataframe\">\n",
              "  <thead>\n",
              "    <tr style=\"text-align: right;\">\n",
              "      <th></th>\n",
              "      <th>Title</th>\n",
              "      <th>Post</th>\n",
              "      <th>Flair</th>\n",
              "    </tr>\n",
              "  </thead>\n",
              "  <tbody>\n",
              "    <tr>\n",
              "      <th>0</th>\n",
              "      <td>travelling outside india for the first time be...</td>\n",
              "      <td>as the title says i will be travelling outside...</td>\n",
              "      <td>0</td>\n",
              "    </tr>\n",
              "    <tr>\n",
              "      <th>1</th>\n",
              "      <td>i am an american traveling to pune for work th...</td>\n",
              "      <td>more info i will be on a work trip this summer...</td>\n",
              "      <td>10</td>\n",
              "    </tr>\n",
              "    <tr>\n",
              "      <th>2</th>\n",
              "      <td>roasting channels vs reaction channels</td>\n",
              "      <td>why do you like or dislike any of those</td>\n",
              "      <td>7</td>\n",
              "    </tr>\n",
              "    <tr>\n",
              "      <th>3</th>\n",
              "      <td>how the fake dadasaheb phalke awards game the ...</td>\n",
              "      <td>crossposting from rbollywood for more visibili...</td>\n",
              "      <td>10</td>\n",
              "    </tr>\n",
              "    <tr>\n",
              "      <th>4</th>\n",
              "      <td>today congress has been greatly weakened or be...</td>\n",
              "      <td>west bengal seats breakaway party all india t...</td>\n",
              "      <td>10</td>\n",
              "    </tr>\n",
              "  </tbody>\n",
              "</table>\n",
              "</div>"
            ],
            "text/plain": [
              "                                               Title  ... Flair\n",
              "0  travelling outside india for the first time be...  ...     0\n",
              "1  i am an american traveling to pune for work th...  ...    10\n",
              "2             roasting channels vs reaction channels  ...     7\n",
              "3  how the fake dadasaheb phalke awards game the ...  ...    10\n",
              "4  today congress has been greatly weakened or be...  ...    10\n",
              "\n",
              "[5 rows x 3 columns]"
            ]
          },
          "metadata": {
            "tags": []
          },
          "execution_count": 7
        }
      ]
    },
    {
      "cell_type": "code",
      "metadata": {
        "id": "c7FrYsDR0LNJ",
        "colab_type": "code",
        "colab": {
          "base_uri": "https://localhost:8080/",
          "height": 260
        },
        "outputId": "61d1727a-19b0-44ae-8ec9-3740909e814c"
      },
      "source": [
        "print(val_data)"
      ],
      "execution_count": 8,
      "outputs": [
        {
          "output_type": "stream",
          "text": [
            "                                                  Title  ... Flair\n",
            "0     travelling outside india for the first time be...  ...     0\n",
            "1     i am an american traveling to pune for work th...  ...    10\n",
            "2                roasting channels vs reaction channels  ...     7\n",
            "3     how the fake dadasaheb phalke awards game the ...  ...    10\n",
            "4     today congress has been greatly weakened or be...  ...    10\n",
            "...                                                 ...  ...   ...\n",
            "8996  pserious can sc deliver a judgement similar to...  ...     0\n",
            "8997  the princess of uae tweeted in response to isl...  ...    10\n",
            "8998  paskindia why is it the norm to expect blatant...  ...     0\n",
            "8999  np this is an unsual post i am looking to play...  ...     7\n",
            "9000  explain to an idiot how aadhar unifying all ou...  ...     0\n",
            "\n",
            "[9001 rows x 3 columns]\n"
          ],
          "name": "stdout"
        }
      ]
    },
    {
      "cell_type": "markdown",
      "metadata": {
        "id": "_owX-Ikq0NI0",
        "colab_type": "text"
      },
      "source": [
        "We will assume that flair is decided by considering the title+post as the complete content. Thus, we need to concatentate the title and post coloumns as 'Content' in our model"
      ]
    },
    {
      "cell_type": "markdown",
      "metadata": {
        "id": "m0ZruLf93TEf",
        "colab_type": "text"
      },
      "source": [
        "##Encoding"
      ]
    },
    {
      "cell_type": "code",
      "metadata": {
        "id": "GZ19u2S52W0B",
        "colab_type": "code",
        "colab": {}
      },
      "source": [
        "train_data['Title'] = train_data['Title'].fillna('')\n",
        "train_data['Post'] = train_data['Post'].fillna('')"
      ],
      "execution_count": 9,
      "outputs": []
    },
    {
      "cell_type": "code",
      "metadata": {
        "id": "7RkthUy1Vnni",
        "colab_type": "code",
        "colab": {}
      },
      "source": [
        "train_data['Content'] = train_data['Title'].str.cat(train_data['Post'], sep = \" \")\n",
        "train_data = train_data.drop(['Title','Post'],axis=1)"
      ],
      "execution_count": 10,
      "outputs": []
    },
    {
      "cell_type": "code",
      "metadata": {
        "id": "uDX3OLMJVxI0",
        "colab_type": "code",
        "colab": {
          "base_uri": "https://localhost:8080/",
          "height": 202
        },
        "outputId": "0f4514a4-fd7c-4513-d49d-71d273e6cd13"
      },
      "source": [
        "train_data.head()"
      ],
      "execution_count": 11,
      "outputs": [
        {
          "output_type": "execute_result",
          "data": {
            "text/html": [
              "<div>\n",
              "<style scoped>\n",
              "    .dataframe tbody tr th:only-of-type {\n",
              "        vertical-align: middle;\n",
              "    }\n",
              "\n",
              "    .dataframe tbody tr th {\n",
              "        vertical-align: top;\n",
              "    }\n",
              "\n",
              "    .dataframe thead th {\n",
              "        text-align: right;\n",
              "    }\n",
              "</style>\n",
              "<table border=\"1\" class=\"dataframe\">\n",
              "  <thead>\n",
              "    <tr style=\"text-align: right;\">\n",
              "      <th></th>\n",
              "      <th>Flair</th>\n",
              "      <th>Content</th>\n",
              "    </tr>\n",
              "  </thead>\n",
              "  <tbody>\n",
              "    <tr>\n",
              "      <th>0</th>\n",
              "      <td>10</td>\n",
              "      <td>netflix the family has been an amazing watch d...</td>\n",
              "    </tr>\n",
              "    <tr>\n",
              "      <th>1</th>\n",
              "      <td>0</td>\n",
              "      <td>all results are out is iiitm gwalior it branch...</td>\n",
              "    </tr>\n",
              "    <tr>\n",
              "      <th>2</th>\n",
              "      <td>0</td>\n",
              "      <td>which are the things you always buy made in in...</td>\n",
              "    </tr>\n",
              "    <tr>\n",
              "      <th>3</th>\n",
              "      <td>11</td>\n",
              "      <td>weekly coders hackers amp all tech related thr...</td>\n",
              "    </tr>\n",
              "    <tr>\n",
              "      <th>4</th>\n",
              "      <td>0</td>\n",
              "      <td>what are some good unknown companies to work a...</td>\n",
              "    </tr>\n",
              "  </tbody>\n",
              "</table>\n",
              "</div>"
            ],
            "text/plain": [
              "   Flair                                            Content\n",
              "0     10  netflix the family has been an amazing watch d...\n",
              "1      0  all results are out is iiitm gwalior it branch...\n",
              "2      0  which are the things you always buy made in in...\n",
              "3     11  weekly coders hackers amp all tech related thr...\n",
              "4      0  what are some good unknown companies to work a..."
            ]
          },
          "metadata": {
            "tags": []
          },
          "execution_count": 11
        }
      ]
    },
    {
      "cell_type": "code",
      "metadata": {
        "id": "HWIxDjjHV-FX",
        "colab_type": "code",
        "colab": {
          "base_uri": "https://localhost:8080/",
          "height": 202
        },
        "outputId": "8878d586-c396-41d7-d188-4774178d972e"
      },
      "source": [
        "train_data['Content_length'] = train_data['Content'].apply(lambda x: len(x.split()))\n",
        "\n",
        "train_data.head()"
      ],
      "execution_count": 12,
      "outputs": [
        {
          "output_type": "execute_result",
          "data": {
            "text/html": [
              "<div>\n",
              "<style scoped>\n",
              "    .dataframe tbody tr th:only-of-type {\n",
              "        vertical-align: middle;\n",
              "    }\n",
              "\n",
              "    .dataframe tbody tr th {\n",
              "        vertical-align: top;\n",
              "    }\n",
              "\n",
              "    .dataframe thead th {\n",
              "        text-align: right;\n",
              "    }\n",
              "</style>\n",
              "<table border=\"1\" class=\"dataframe\">\n",
              "  <thead>\n",
              "    <tr style=\"text-align: right;\">\n",
              "      <th></th>\n",
              "      <th>Flair</th>\n",
              "      <th>Content</th>\n",
              "      <th>Content_length</th>\n",
              "    </tr>\n",
              "  </thead>\n",
              "  <tbody>\n",
              "    <tr>\n",
              "      <th>0</th>\n",
              "      <td>10</td>\n",
              "      <td>netflix the family has been an amazing watch d...</td>\n",
              "      <td>70</td>\n",
              "    </tr>\n",
              "    <tr>\n",
              "      <th>1</th>\n",
              "      <td>0</td>\n",
              "      <td>all results are out is iiitm gwalior it branch...</td>\n",
              "      <td>38</td>\n",
              "    </tr>\n",
              "    <tr>\n",
              "      <th>2</th>\n",
              "      <td>0</td>\n",
              "      <td>which are the things you always buy made in in...</td>\n",
              "      <td>50</td>\n",
              "    </tr>\n",
              "    <tr>\n",
              "      <th>3</th>\n",
              "      <td>11</td>\n",
              "      <td>weekly coders hackers amp all tech related thr...</td>\n",
              "      <td>85</td>\n",
              "    </tr>\n",
              "    <tr>\n",
              "      <th>4</th>\n",
              "      <td>0</td>\n",
              "      <td>what are some good unknown companies to work a...</td>\n",
              "      <td>84</td>\n",
              "    </tr>\n",
              "  </tbody>\n",
              "</table>\n",
              "</div>"
            ],
            "text/plain": [
              "   Flair                                            Content  Content_length\n",
              "0     10  netflix the family has been an amazing watch d...              70\n",
              "1      0  all results are out is iiitm gwalior it branch...              38\n",
              "2      0  which are the things you always buy made in in...              50\n",
              "3     11  weekly coders hackers amp all tech related thr...              85\n",
              "4      0  what are some good unknown companies to work a...              84"
            ]
          },
          "metadata": {
            "tags": []
          },
          "execution_count": 12
        }
      ]
    },
    {
      "cell_type": "code",
      "metadata": {
        "id": "cwCV-AoSWCSP",
        "colab_type": "code",
        "colab": {
          "base_uri": "https://localhost:8080/",
          "height": 35
        },
        "outputId": "2a213f91-7154-4db5-ff50-6b7a12515b34"
      },
      "source": [
        "train_data['Content_length'].mean()"
      ],
      "execution_count": 13,
      "outputs": [
        {
          "output_type": "execute_result",
          "data": {
            "text/plain": [
              "119.29173393164966"
            ]
          },
          "metadata": {
            "tags": []
          },
          "execution_count": 13
        }
      ]
    },
    {
      "cell_type": "markdown",
      "metadata": {
        "id": "f5YlNKni3BkM",
        "colab_type": "text"
      },
      "source": [
        "Mean length of content is approximately 120 words"
      ]
    },
    {
      "cell_type": "markdown",
      "metadata": {
        "id": "i53HQsSu3Jm4",
        "colab_type": "text"
      },
      "source": [
        "###Tokenize the words"
      ]
    },
    {
      "cell_type": "code",
      "metadata": {
        "id": "b0zxPLbH3bQt",
        "colab_type": "code",
        "colab": {}
      },
      "source": [
        "tok = spacy.load('en')\n",
        "def tokenize (text):\n",
        "    text = re.sub(r\"[^\\x00-\\x7F]+\", \" \", text)\n",
        "    regex = re.compile('[' + re.escape(string.punctuation) + '0-9\\\\r\\\\t\\\\n]') # remove punctuation and numbers\n",
        "    nopunct = regex.sub(\" \", text.lower())\n",
        "    return [token.text for token in tok.tokenizer(nopunct)]"
      ],
      "execution_count": 14,
      "outputs": []
    },
    {
      "cell_type": "code",
      "metadata": {
        "id": "__FLe7Mw3tBd",
        "colab_type": "code",
        "colab": {}
      },
      "source": [
        "counts = Counter()\n",
        "for index, row in train_data.iterrows():\n",
        "    counts.update(tokenize(row['Content']))"
      ],
      "execution_count": 15,
      "outputs": []
    },
    {
      "cell_type": "code",
      "metadata": {
        "id": "ilkTPx-R4qLN",
        "colab_type": "code",
        "colab": {
          "base_uri": "https://localhost:8080/",
          "height": 52
        },
        "outputId": "e37a7b75-8025-47f3-c4ef-798ced961533"
      },
      "source": [
        "print(\"num_words before:\",len(counts.keys()))\n",
        "for word in list(counts):\n",
        "    if counts[word] < 2:\n",
        "        del counts[word]\n",
        "print(\"num_words after:\",len(counts.keys()))"
      ],
      "execution_count": 16,
      "outputs": [
        {
          "output_type": "stream",
          "text": [
            "num_words before: 88692\n",
            "num_words after: 42719\n"
          ],
          "name": "stdout"
        }
      ]
    },
    {
      "cell_type": "code",
      "metadata": {
        "id": "uqEeRpTA45gv",
        "colab_type": "code",
        "colab": {}
      },
      "source": [
        "vocab2index = {\"\":0, \"UNK\":1}\n",
        "words = [\"\", \"UNK\"]\n",
        "for word in counts:\n",
        "    vocab2index[word] = len(words)\n",
        "    words.append(word)"
      ],
      "execution_count": 17,
      "outputs": []
    },
    {
      "cell_type": "code",
      "metadata": {
        "id": "S5daQu_08D8y",
        "colab_type": "code",
        "colab": {}
      },
      "source": [
        "def encode_sentence(text, vocab2index, N=120):\n",
        "    tokenized = tokenize(text)\n",
        "    encoded = np.zeros(N, dtype=int)\n",
        "    enc1 = np.array([vocab2index.get(word, vocab2index[\"UNK\"]) for word in tokenized])\n",
        "    length = min(N, len(enc1))\n",
        "    encoded[:length] = enc1[:length]\n",
        "    return encoded, length"
      ],
      "execution_count": 18,
      "outputs": []
    },
    {
      "cell_type": "code",
      "metadata": {
        "id": "KiU6Oibf8rTm",
        "colab_type": "code",
        "colab": {
          "base_uri": "https://localhost:8080/",
          "height": 202
        },
        "outputId": "bd9090ce-dfe1-472c-aa8b-7f2f039848c3"
      },
      "source": [
        "train_data['encoded_Content'] = train_data['Content'].apply(lambda x: np.array(encode_sentence(x,vocab2index)))\n",
        "\n",
        "train_data.head()"
      ],
      "execution_count": 19,
      "outputs": [
        {
          "output_type": "execute_result",
          "data": {
            "text/html": [
              "<div>\n",
              "<style scoped>\n",
              "    .dataframe tbody tr th:only-of-type {\n",
              "        vertical-align: middle;\n",
              "    }\n",
              "\n",
              "    .dataframe tbody tr th {\n",
              "        vertical-align: top;\n",
              "    }\n",
              "\n",
              "    .dataframe thead th {\n",
              "        text-align: right;\n",
              "    }\n",
              "</style>\n",
              "<table border=\"1\" class=\"dataframe\">\n",
              "  <thead>\n",
              "    <tr style=\"text-align: right;\">\n",
              "      <th></th>\n",
              "      <th>Flair</th>\n",
              "      <th>Content</th>\n",
              "      <th>Content_length</th>\n",
              "      <th>encoded_Content</th>\n",
              "    </tr>\n",
              "  </thead>\n",
              "  <tbody>\n",
              "    <tr>\n",
              "      <th>0</th>\n",
              "      <td>10</td>\n",
              "      <td>netflix the family has been an amazing watch d...</td>\n",
              "      <td>70</td>\n",
              "      <td>[[2, 3, 4, 5, 6, 7, 8, 9, 10, 11, 12, 3, 13, 5...</td>\n",
              "    </tr>\n",
              "    <tr>\n",
              "      <th>1</th>\n",
              "      <td>0</td>\n",
              "      <td>all results are out is iiitm gwalior it branch...</td>\n",
              "      <td>38</td>\n",
              "      <td>[[32, 53, 54, 55, 25, 1, 56, 57, 58, 59, 3, 60...</td>\n",
              "    </tr>\n",
              "    <tr>\n",
              "      <th>2</th>\n",
              "      <td>0</td>\n",
              "      <td>which are the things you always buy made in in...</td>\n",
              "      <td>50</td>\n",
              "      <td>[[82, 54, 3, 83, 11, 84, 85, 86, 30, 87, 11, 6...</td>\n",
              "    </tr>\n",
              "    <tr>\n",
              "      <th>3</th>\n",
              "      <td>11</td>\n",
              "      <td>weekly coders hackers amp all tech related thr...</td>\n",
              "      <td>85</td>\n",
              "      <td>[[110, 111, 112, 113, 32, 114, 115, 116, 117, ...</td>\n",
              "    </tr>\n",
              "    <tr>\n",
              "      <th>4</th>\n",
              "      <td>0</td>\n",
              "      <td>what are some good unknown companies to work a...</td>\n",
              "      <td>84</td>\n",
              "      <td>[[14, 54, 48, 59, 158, 159, 18, 160, 15, 30, 8...</td>\n",
              "    </tr>\n",
              "  </tbody>\n",
              "</table>\n",
              "</div>"
            ],
            "text/plain": [
              "   Flair  ...                                    encoded_Content\n",
              "0     10  ...  [[2, 3, 4, 5, 6, 7, 8, 9, 10, 11, 12, 3, 13, 5...\n",
              "1      0  ...  [[32, 53, 54, 55, 25, 1, 56, 57, 58, 59, 3, 60...\n",
              "2      0  ...  [[82, 54, 3, 83, 11, 84, 85, 86, 30, 87, 11, 6...\n",
              "3     11  ...  [[110, 111, 112, 113, 32, 114, 115, 116, 117, ...\n",
              "4      0  ...  [[14, 54, 48, 59, 158, 159, 18, 160, 15, 30, 8...\n",
              "\n",
              "[5 rows x 4 columns]"
            ]
          },
          "metadata": {
            "tags": []
          },
          "execution_count": 19
        }
      ]
    },
    {
      "cell_type": "code",
      "metadata": {
        "id": "YEsezyO7-D6z",
        "colab_type": "code",
        "colab": {
          "base_uri": "https://localhost:8080/",
          "height": 277
        },
        "outputId": "7fa2fe3f-d9a0-42cc-e25a-858cd01664cd"
      },
      "source": [
        "Counter(train_data['Flair'])"
      ],
      "execution_count": 20,
      "outputs": [
        {
          "output_type": "execute_result",
          "data": {
            "text/plain": [
              "Counter({0: 16616,\n",
              "         1: 811,\n",
              "         2: 76,\n",
              "         3: 793,\n",
              "         4: 365,\n",
              "         5: 172,\n",
              "         6: 293,\n",
              "         7: 8118,\n",
              "         8: 96,\n",
              "         9: 1046,\n",
              "         10: 4847,\n",
              "         11: 580,\n",
              "         12: 961,\n",
              "         13: 256,\n",
              "         14: 1517})"
            ]
          },
          "metadata": {
            "tags": []
          },
          "execution_count": 20
        }
      ]
    },
    {
      "cell_type": "markdown",
      "metadata": {
        "id": "-98PqsDC-V1n",
        "colab_type": "text"
      },
      "source": [
        "Dataset has way more 0 flair data points than any other, 7 and 10 are other high values\n",
        "\n",
        "Very less data points of 8 and 2"
      ]
    },
    {
      "cell_type": "markdown",
      "metadata": {
        "id": "qKzRNe8j_jA7",
        "colab_type": "text"
      },
      "source": [
        "Repeat the encoding steps for the validation dataset"
      ]
    }
  ]
}