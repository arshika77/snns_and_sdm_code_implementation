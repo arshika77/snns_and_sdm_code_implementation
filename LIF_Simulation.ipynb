{
  "nbformat": 4,
  "nbformat_minor": 0,
  "metadata": {
    "colab": {
      "name": "LIF_Simulation.ipynb",
      "provenance": [],
      "authorship_tag": "ABX9TyPzmLM2auiicGjNCVLkX6rn",
      "include_colab_link": true
    },
    "kernelspec": {
      "name": "python3",
      "display_name": "Python 3"
    }
  },
  "cells": [
    {
      "cell_type": "markdown",
      "metadata": {
        "id": "view-in-github",
        "colab_type": "text"
      },
      "source": [
        "<a href=\"https://colab.research.google.com/github/arshika77/snns_and_sdm_code_implementation/blob/master/LIF_Simulation.ipynb\" target=\"_parent\"><img src=\"https://colab.research.google.com/assets/colab-badge.svg\" alt=\"Open In Colab\"/></a>"
      ]
    },
    {
      "cell_type": "markdown",
      "metadata": {
        "id": "0QBgRWoiBjwx",
        "colab_type": "text"
      },
      "source": [
        "__author__ = \"Devrim Celik\"\n",
        "\n",
        "\"\"\"\n",
        "Interative plot, showcasing the Leaky Integrate-and-Fire Model\n",
        "\"\"\"\n",
        "\n"
      ]
    },
    {
      "cell_type": "code",
      "metadata": {
        "id": "ZjuKQ8EzCiIw",
        "colab_type": "code",
        "colab": {}
      },
      "source": [
        "import numpy as np\n",
        "import matplotlib.pyplot as plt\n",
        "from matplotlib.pyplot import  Button, Slider\n",
        "#==============================================================================#"
      ],
      "execution_count": 3,
      "outputs": []
    },
    {
      "cell_type": "code",
      "metadata": {
        "id": "7Ue_4eHxCmb-",
        "colab_type": "code",
        "colab": {}
      },
      "source": [
        "def LIF(_I=0.005, gl=0.16, Cm=0.0049):\n",
        "\n",
        "    ######### Constants\n",
        "    El      =   -0.065                      # resting membrane potential [V]\n",
        "    thresh  =   -0.050                      # spiking threshold [V]\n",
        "\n",
        "    ######### Experimental Setup\n",
        "    # TIME\n",
        "    T       =   0.100                       # total simulation length [s]\n",
        "    dt      =   0.00002                     # step size [s]\n",
        "    time    =   np.arange(0, T+dt, dt)      # step values [s]\n",
        "    # VOLTAGE\n",
        "    V       =   np.empty(len(time))         # array for saving Voltage history\n",
        "    V[0]    =   El                          # set initial to resting potential\n",
        "    # CURRENT\n",
        "    I = np.zeros(len(time))\n",
        "    I[1000:4000] = _I\n",
        "    ######### Measurements\n",
        "    spikes  =   0                           # counter for number of spikes\n",
        "\n",
        "    ######### Simulation\n",
        "    for i in range(1, len(time)):\n",
        "        # use \"I - V/R = C * dV/dT\" to get this equation\n",
        "        dV =  (I[i] - gl*(V[i-1]-El))/Cm\n",
        "        V[i] = V[i-1] + dV*dt\n",
        "\n",
        "        # in case we exceed threshold\n",
        "        if V[i] > thresh:\n",
        "            V[i-1] = 0.04   # set the last step to spike value\n",
        "            V[i] = El       # current step is resting membrane potential\n",
        "            spikes += 1     # count spike\n",
        "\n",
        "    return V\n",
        "\n",
        "def I_values(_I=0.005, time=None):\n",
        "    I = np.zeros(len(time))\n",
        "    I[1000:4000] = _I\n",
        "    return I\n",
        "\n",
        "#==============================================================================#"
      ],
      "execution_count": 4,
      "outputs": []
    },
    {
      "cell_type": "code",
      "metadata": {
        "id": "9fo0Vd6PCU0T",
        "colab_type": "code",
        "colab": {}
      },
      "source": [
        "def start_LIF_sim():\n",
        "    # time parameters for plotting\n",
        "    T       =   0.100                       # total simulation length [s]\n",
        "    dt      =   0.00002                     # step size [s]\n",
        "    time    =   np.arange(0, T+dt, dt)      # step values [s]\n",
        "\n",
        "    # initial parameters\n",
        "    I_init  =   0.005\n",
        "    gl_init =   0.16\n",
        "    Cm_init =   0.0049\n",
        "\n",
        "    # update functions for lines\n",
        "    V = LIF(_I=I_init, gl=gl_init, Cm=Cm_init)\n",
        "    I = I_values(_I=I_init, time=time)\n",
        "\n",
        "    ######### Plotting\n",
        "    axis_color = 'lightgoldenrodyellow'\n",
        "\n",
        "    fig = plt.figure(\"Leaky Integrate-and-Fire Neuron\", figsize=(14, 7))\n",
        "    ax = fig.add_subplot(111)\n",
        "    plt.title(\"Interactive Leaky Integrate-and-Fire Neuron Simulation\")\n",
        "    fig.subplots_adjust(left=0.1, bottom=0.32)\n",
        "\n",
        "    # plot lines\n",
        "    line = plt.plot(time, V, label=\"Membrane Potential\")[0]\n",
        "    line2 = plt.plot(time, I, label=\"Applied Current\")[0]\n",
        "\n",
        "    # add legend\n",
        "    plt.legend(loc=\"upper right\")\n",
        "\n",
        "    # add axis labels\n",
        "    plt.ylabel(\"Potential [V]/ Current [A]\")\n",
        "    plt.xlabel(\"Time [s]\")\n",
        "\n",
        "    # define sliders (position, color, inital value, parameter, etc...)\n",
        "    I_slider_axis = plt.axes([0.1, 0.17, 0.65, 0.03], facecolor=axis_color)\n",
        "    I_slider = Slider(I_slider_axis, '$I_{ext}$', -0.01, 0.03, valinit=I_init)\n",
        "\n",
        "    gl_slider_axis = plt.axes([0.1, 0.12, 0.65, 0.03], facecolor=axis_color)\n",
        "    gl_slider = Slider(gl_slider_axis, '$g_{L}$', 0.0, 0.3, valinit=gl_init)\n",
        "\n",
        "    Cm_slider_axis = plt.axes([0.1, 0.07, 0.65, 0.03], facecolor=axis_color)\n",
        "    Cm_slider = Slider(Cm_slider_axis, '$C_{m}$', 0.0, 0.01, valinit=Cm_init)\n",
        "\n",
        "    # update functions\n",
        "    def update(val):\n",
        "        line.set_ydata(LIF(I_slider.val, gl_slider.val, Cm_slider.val))\n",
        "        line2.set_ydata(I_values(I_slider.val, time=time))\n",
        "\n",
        "    # update, if any slider is moved\n",
        "    I_slider.on_changed(update)\n",
        "    gl_slider.on_changed(update)\n",
        "    Cm_slider.on_changed(update)\n",
        "\n",
        "    # Add a button for resetting the parameters\n",
        "    reset_button_ax = plt.axes([0.8, 0.02, 0.1, 0.04])\n",
        "    reset_button = Button(\n",
        "        reset_button_ax, 'Reset', color=axis_color, hovercolor='0.975')\n",
        "\n",
        "    # event of resert button being clicked\n",
        "    def reset_button_was_clicked(event):\n",
        "        I_slider.reset()\n",
        "        gl_slider.reset()\n",
        "        Cm_slider.reset()\n",
        "\n",
        "    reset_button.on_clicked(reset_button_was_clicked)\n",
        "\n",
        "    plt.show()\n",
        "\n",
        "\n",
        "#==============================================================================#"
      ],
      "execution_count": 5,
      "outputs": []
    },
    {
      "cell_type": "code",
      "metadata": {
        "id": "9JZALqxGCtX0",
        "colab_type": "code",
        "colab": {
          "base_uri": "https://localhost:8080/",
          "height": 476
        },
        "outputId": "8209d7bf-cf6d-42c7-a820-5b5c20436b23"
      },
      "source": [
        "if (__name__ == '__main__'):\n",
        "    start_LIF_sim()"
      ],
      "execution_count": 6,
      "outputs": [
        {
          "output_type": "display_data",
          "data": {
            "image/png": "[encoded data removed]",
            "text/plain": [
              "<Figure size 1008x504 with 5 Axes>"
            ]
          },
          "metadata": {
            "tags": [],
            "needs_background": "light"
          }
        }
      ]
    }
  ]
}